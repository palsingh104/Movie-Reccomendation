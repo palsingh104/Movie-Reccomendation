{
 "cells": [
  {
   "cell_type": "markdown",
   "metadata": {},
   "source": [
    "# Details about the notebook:\n",
    "* **Introduction:** The notebook implements a basic recommendation system using the cosine similarity and concepts of linear algebra\n",
    "* **Load:** The first step is to import the required libraries and to feed the data\n",
    "\n",
    "* **Functions:** Next we program our mathematical functions to calculate the cosine similarity in order to make recommendations based on the fed data.\n",
    "\n",
    "* **Results:** On running the code we see the recommendations for a particular user.\n",
    "\n",
    "\n"
   ]
  },
  {
   "cell_type": "code",
   "execution_count": 1,
   "metadata": {
    "_cell_guid": "b1076dfc-b9ad-4769-8c92-a6c4dae69d19",
    "_uuid": "8f2839f25d086af736a60e9eeb907d3b93b6e0e5"
   },
   "outputs": [
    {
     "name": "stdout",
     "output_type": "stream",
     "text": [
      "[]\n"
     ]
    }
   ],
   "source": [
    "# This Python 3 environment comes with many helpful analytics libraries installed\n",
    "# It is defined by the kaggle/python docker image: https://github.com/kaggle/docker-python\n",
    "# For example, here's several helpful packages to load in \n",
    "\n",
    "import numpy as np # linear algebra\n",
    "import pandas as pd # data processing, CSV file I/O (e.g. pd.read_csv)\n",
    "\n",
    "# Input data files are available in the \"../input/\" directory.\n",
    "# For example, running this (by clicking run or pressing Shift+Enter) will list the files in the input directory\n",
    "\n",
    "import os\n",
    "print(os.listdir(\"../input\"))\n",
    "\n",
    "# Any results you write to the current directory are saved as output."
   ]
  },
  {
   "cell_type": "code",
   "execution_count": 2,
   "metadata": {
    "_cell_guid": "79c7e3d0-c299-4dcb-8224-4455121ee9b0",
    "_uuid": "d629ff2d2480ee46fbb7e2d37f6b5fab8052498a"
   },
   "outputs": [],
   "source": [
    "from typing import List\n",
    "import math, random\n",
    "from collections import defaultdict, Counter\n",
    "\n",
    "Vector = List[float]\n",
    "def dot(v: Vector, w: Vector) -> float:\n",
    "    \"\"\"Computes v_1 * w_1 + ... + v_n * w_n\"\"\"\n",
    "    assert len(v) == len(w), \"vectors must be same length\"\n",
    "\n",
    "    return sum(v_i * w_i for v_i, w_i in zip(v, w))"
   ]
  },
  {
   "cell_type": "code",
   "execution_count": null,
   "metadata": {},
   "outputs": [],
   "source": []
  },
  {
   "cell_type": "code",
   "execution_count": 3,
   "metadata": {},
   "outputs": [],
   "source": [
    "users_interests = [\n",
    "    [\" Hereditary\", \"  The Favourite\", \"Blindspotting\", \" Spider-Man: Into the Spider-Verse\", \"Mission: Impossible - Fallout\", \" Sorry to Bother You\", \"Roma\"],\n",
    "    [\"Annihilation\", \"Avengers: Infinity War\", \"Roma\", \"Blindspotting\", \" Under the Silver Lake\"],\n",
    "    [\"Upgrade\", \"wrong turn\", \"No Mercy\", \"La la Land\", \"bahubaali 2\", \"BPM\"],\n",
    "    [\"Whose Streets? \", \"Upgrade\", \"bahubaali\", \"Nocturama\", \"demons\"],\n",
    "    [\"manhunt\", \"Nocturama\", \"River\", \"Brawl in Cell Block 99 \"],\n",
    "    [\"Upgrade\", \"Whose Streets? \", \" Spider-Man: Into the Spider-Verse\", \"Hangover\", \" Hangover 2\", \"Leech\"],\n",
    "    [\"bahubaali\", \"demons\", \"The man who knew infinity\", \"The Big Sick\"],\n",
    "    [\"manhunt\", \"wrong turn\", \"abcd\", \"Pale\"],\n",
    "    [\"Pale\", \"deep learning\", \"  The Favourite\", \"Lame\"],\n",
    "    [\" Hereditary\", \" Spider-Man: Into the Spider-Verse\", \"I\", \"  The Favourite\"],\n",
    "    [\"bahubaali\", \"Whose Streets? \", \"bahubaali 2\"],\n",
    "    [\"Hangover\", \"deep learning\", \"Lame\", \"demons\"],\n",
    "    [\"BPM\", \"Whose Streets? \", \"Upgrade\"],\n",
    "    [\"Guardians of the Galaxy Vol. 2 \", \"Blindspotting\", \" Under the Silver Lake\", \"Columbus\", \"Avengers: Infinity War\"],\n",
    "    [\"Brawl in Cell Block 99 \", \"Nocturama\", \"The Post \"]\n",
    "]"
   ]
  },
  {
   "cell_type": "markdown",
   "metadata": {},
   "source": [
    "Now, that we have entered the data we will find the most popular movies. We calculate the most popular interests and then the 'most popular new interests' on the basis of the data using frequency analysis."
   ]
  },
  {
   "cell_type": "code",
   "execution_count": 4,
   "metadata": {},
   "outputs": [
    {
     "name": "stdout",
     "output_type": "stream",
     "text": [
      "___________Popular Interests :________________\n",
      "[('Upgrade', 4), ('Whose Streets? ', 4), ('  The Favourite', 3), ('Blindspotting', 3), (' Spider-Man: Into the Spider-Verse', 3), ('bahubaali', 3), ('Nocturama', 3), ('demons', 3), (' Hereditary', 2), ('Roma', 2), ('Avengers: Infinity War', 2), (' Under the Silver Lake', 2), ('wrong turn', 2), ('bahubaali 2', 2), ('BPM', 2), ('manhunt', 2), ('Brawl in Cell Block 99 ', 2), ('Hangover', 2), ('Pale', 2), ('deep learning', 2), ('Lame', 2), ('Mission: Impossible - Fallout', 1), (' Sorry to Bother You', 1), ('Annihilation', 1), ('No Mercy', 1), ('La la Land', 1), ('River', 1), (' Hangover 2', 1), ('Leech', 1), ('The man who knew infinity', 1), ('The Big Sick', 1), ('abcd', 1), ('I', 1), ('Guardians of the Galaxy Vol. 2 ', 1), ('Columbus', 1), ('The Post ', 1)]\n",
      "___________Most Popular New Interests___________\n",
      "already like: ['Annihilation', 'Avengers: Infinity War', 'Roma', 'Blindspotting', ' Under the Silver Lake']\n",
      "[('Upgrade', 4), ('Whose Streets? ', 4), ('  The Favourite', 3), (' Spider-Man: Into the Spider-Verse', 3), ('bahubaali', 3)]\n",
      "\n",
      "___________already like:___________ ['Whose Streets? ', 'Upgrade', 'bahubaali', 'Nocturama', 'demons']\n",
      "[('  The Favourite', 3), ('Blindspotting', 3), (' Spider-Man: Into the Spider-Verse', 3), (' Hereditary', 2), ('Roma', 2)]\n",
      "\n"
     ]
    }
   ],
   "source": [
    "popular_interests = Counter(interest\n",
    "                            for user_interests in users_interests\n",
    "                            for interest in user_interests).most_common()\n",
    "\n",
    "print(\"___________Popular Interests :________________\")\n",
    "print(popular_interests)\n",
    "\n",
    "def most_popular_new_interests(user_interests, max_results=5):\n",
    "    suggestions = [(interest, frequency)\n",
    "                   for interest, frequency in popular_interests\n",
    "                   if interest not in user_interests]\n",
    "    return suggestions[:max_results]\n",
    "\n",
    "print(\"___________Most Popular New Interests___________\")\n",
    "print(\"already like:\", [\"Annihilation\", \"Avengers: Infinity War\", \"Roma\", \"Blindspotting\", \" Under the Silver Lake\"])\n",
    "print(most_popular_new_interests([\"Annihilation\", \"Avengers: Infinity War\", \"Roma\", \"Blindspotting\", \" Under the Silver Lake\"]))\n",
    "print()\n",
    "print(\"___________already like:___________\", [\"Whose Streets? \", \"Upgrade\", \"bahubaali\", \"Nocturama\", \"demons\"])\n",
    "print(most_popular_new_interests([\"Whose Streets? \", \"Upgrade\", \"bahubaali\", \"Nocturama\", \"demons\"]))\n",
    "print()\n"
   ]
  },
  {
   "cell_type": "code",
   "execution_count": 5,
   "metadata": {},
   "outputs": [],
   "source": [
    "#\n",
    "# user-based filtering\n",
    "#\n",
    "\n",
    "def cosine_similarity(v, w):\n",
    "    return dot(v, w) / math.sqrt(dot(v, v) * dot(w, w))\n",
    "\n",
    "unique_interests = sorted(list({ interest\n",
    "                                 for user_interests in users_interests\n",
    "                                 for interest in user_interests }))\n",
    "\n",
    "def make_user_interest_vector(user_interests):\n",
    "    \"\"\"given a list of interests, produce a vector whose i-th element is 1\n",
    "    if unique_interests[i] is in the list, 0 otherwise\"\"\"\n",
    "    return [1 if interest in user_interests else 0\n",
    "            for interest in unique_interests]\n",
    "\n",
    "user_interest_matrix = list(map(make_user_interest_vector, users_interests))\n",
    "\n",
    "user_similarities = [[cosine_similarity(interest_vector_i, interest_vector_j)\n",
    "                      for interest_vector_j in user_interest_matrix]\n",
    "                     for interest_vector_i in user_interest_matrix]\n",
    "\n",
    "def most_similar_users_to(user_id):\n",
    "    pairs = [(other_user_id, similarity)                      # find other\n",
    "             for other_user_id, similarity in                 # users with\n",
    "                enumerate(user_similarities[user_id])         # nonzero\n",
    "             if user_id != other_user_id and similarity > 0]  # similarity\n",
    "\n",
    "    return sorted(pairs,                                      # sort them\n",
    "                  key=lambda pair: pair[1],                   # most similar\n",
    "                  reverse=True)                               # first\n",
    "\n",
    "\n",
    "def user_based_suggestions(user_id, include_current_interests=False):\n",
    "    # sum up the similarities\n",
    "    suggestions = defaultdict(float)\n",
    "    for other_user_id, similarity in most_similar_users_to(user_id):\n",
    "        for interest in users_interests[other_user_id]:\n",
    "            suggestions[interest] += similarity\n",
    "\n",
    "    # convert them to a sorted list\n",
    "    suggestions = sorted(suggestions.items(),\n",
    "                         key=lambda pair: pair[1],\n",
    "                         reverse=True)\n",
    "\n",
    "    # and (maybe) exclude already-interests\n",
    "    if include_current_interests:\n",
    "        return suggestions\n",
    "    else:\n",
    "        return [(suggestion, weight)\n",
    "                for suggestion, weight in suggestions\n",
    "                if suggestion not in users_interests[user_id]]"
   ]
  },
  {
   "cell_type": "code",
   "execution_count": 6,
   "metadata": {},
   "outputs": [],
   "source": [
    "interest_user_matrix = [[user_interest_vector[j]\n",
    "                         for user_interest_vector in user_interest_matrix]\n",
    "                        for j, _ in enumerate(unique_interests)]\n",
    "\n",
    "interest_similarities = [[cosine_similarity(user_vector_i, user_vector_j)\n",
    "                          for user_vector_j in interest_user_matrix]\n",
    "                         for user_vector_i in interest_user_matrix]\n",
    "\n",
    "def most_similar_interests_to(interest_id):\n",
    "    similarities = interest_similarities[interest_id]\n",
    "    pairs = [(unique_interests[other_interest_id], similarity)\n",
    "             for other_interest_id, similarity in enumerate(similarities)\n",
    "             if interest_id != other_interest_id and similarity > 0]\n",
    "    return sorted(pairs,\n",
    "                  key=lambda pair: pair[1],\n",
    "                  reverse=True)\n",
    "\n",
    "def item_based_suggestions(user_id, include_current_interests=False):\n",
    "    suggestions = defaultdict(float)\n",
    "    user_interest_vector = user_interest_matrix[user_id]\n",
    "    for interest_id, is_interested in enumerate(user_interest_vector):\n",
    "        if is_interested == 1:\n",
    "            similar_interests = most_similar_interests_to(interest_id)\n",
    "            for interest, similarity in similar_interests:\n",
    "                suggestions[interest] += similarity\n",
    "\n",
    "    suggestions = sorted(suggestions.items(),\n",
    "                         key=lambda pair: pair[1],\n",
    "                         reverse=True)\n",
    "\n",
    "    if include_current_interests:\n",
    "        return suggestions\n",
    "    else:\n",
    "        return [(suggestion, weight)\n",
    "                for suggestion, weight in suggestions\n",
    "                if suggestion not in users_interests[user_id]]"
   ]
  },
  {
   "cell_type": "code",
   "execution_count": 7,
   "metadata": {},
   "outputs": [
    {
     "name": "stdout",
     "output_type": "stream",
     "text": [
      "User based similarity\n",
      "most similar to 0\n",
      "[(9, 0.5669467095138409), (1, 0.3380617018914066), (8, 0.1889822365046136), (13, 0.1690308509457033), (5, 0.1543033499620919)]\n",
      "Suggestions for 0\n",
      "[('I', 0.5669467095138409), ('Avengers: Infinity War', 0.50709255283711), (' Under the Silver Lake', 0.50709255283711), ('Annihilation', 0.3380617018914066), ('Pale', 0.1889822365046136), ('deep learning', 0.1889822365046136), ('Lame', 0.1889822365046136), ('Guardians of the Galaxy Vol. 2 ', 0.1690308509457033), ('Columbus', 0.1690308509457033), ('Upgrade', 0.1543033499620919), ('Whose Streets? ', 0.1543033499620919), ('Hangover', 0.1543033499620919), (' Hangover 2', 0.1543033499620919), ('Leech', 0.1543033499620919)]\n",
      "\n",
      "Item based similarity\n",
      "most similar to '  The Favourite'\n",
      "[(' Hereditary', 0.8164965809277261), (' Spider-Man: Into the Spider-Verse', 0.6666666666666666), (' Sorry to Bother You', 0.5773502691896258), ('I', 0.5773502691896258), ('Mission: Impossible - Fallout', 0.5773502691896258), ('Lame', 0.4082482904638631), ('Pale', 0.4082482904638631), ('Roma', 0.4082482904638631), ('deep learning', 0.4082482904638631), ('Blindspotting', 0.3333333333333333)]\n",
      "\n",
      "suggestions for user 0\n",
      "[('I', 1.861807319565799), (' Under the Silver Lake', 1.3164965809277263), ('Avengers: Infinity War', 1.3164965809277263), ('Annihilation', 1.2844570503761732), (' Hangover 2', 0.5773502691896258), ('Leech', 0.5773502691896258), ('Columbus', 0.5773502691896258), ('Guardians of the Galaxy Vol. 2 ', 0.5773502691896258), ('Lame', 0.4082482904638631), ('Pale', 0.4082482904638631), ('deep learning', 0.4082482904638631), ('Hangover', 0.4082482904638631), ('Upgrade', 0.2886751345948129), ('Whose Streets? ', 0.2886751345948129)]\n"
     ]
    }
   ],
   "source": [
    "\n",
    "    print(\"User based similarity\")\n",
    "    print(\"most similar to 0\")\n",
    "    print(most_similar_users_to(0))\n",
    "\n",
    "    print(\"Suggestions for 0\")\n",
    "    print(user_based_suggestions(0))\n",
    "    print()\n",
    "\n",
    "    print(\"Item based similarity\")\n",
    "    print(\"most similar to '  The Favourite'\")\n",
    "    print(most_similar_interests_to(0))\n",
    "    print()\n",
    "\n",
    "    print(\"suggestions for user 0\")\n",
    "    print(item_based_suggestions(0))"
   ]
  }
 ],
 "metadata": {
  "kernelspec": {
   "display_name": "Python 3",
   "language": "python",
   "name": "python3"
  },
  "language_info": {
   "codemirror_mode": {
    "name": "ipython",
    "version": 3
   },
   "file_extension": ".py",
   "mimetype": "text/x-python",
   "name": "python",
   "nbconvert_exporter": "python",
   "pygments_lexer": "ipython3",
   "version": "3.6.6"
  }
 },
 "nbformat": 4,
 "nbformat_minor": 1
}
